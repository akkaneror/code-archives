{
  "cells": [
    {
      "cell_type": "code",
      "execution_count": null,
      "metadata": {
        "collapsed": true,
        "pycharm": {}
      },
      "outputs": [],
      "source": "a \u003d \"3141592653589793238462643383279502884197169399375105820974944592\"\nb \u003d \"2718281828459045235360287471352662497757247093699959574966967627\"\ndef karatsuba(x, y):\n    mid \u003d len(x) // 2\n    a \u003d x[:mid]; b \u003d x[mid:] \n    c \u003d y[:mid]; d \u003d y[mid:]\n    sum \u003d 10**len(x)*karatsuba(a, c) + 10**(len(x)//2) * (karatsuba(a, d) + karatsuba(b, c)) + karatsuba(b, d)\n    "
    }
  ],
  "metadata": {
    "language_info": {
      "codemirror_mode": {
        "name": "ipython",
        "version": 2
      },
      "file_extension": ".py",
      "mimetype": "text/x-python",
      "name": "python",
      "nbconvert_exporter": "python",
      "pygments_lexer": "ipython2",
      "version": "2.7.6"
    },
    "kernelspec": {
      "name": "pycharm-d5ae913",
      "language": "python",
      "display_name": "PyCharm (code-archives)"
    }
  },
  "nbformat": 4,
  "nbformat_minor": 0
}