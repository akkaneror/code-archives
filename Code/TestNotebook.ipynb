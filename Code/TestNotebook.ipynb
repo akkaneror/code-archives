{
  "cells": [
    {
      "cell_type": "code",
      "execution_count": 3,
      "metadata": {
        "collapsed": true,
        "pycharm": {
          "is_executing": false
        }
      },
      "outputs": [
        {
          "name": "stdout",
          "text": [
            "hello\n",
            "4200\n"
          ],
          "output_type": "stream"
        }
      ],
      "source": "\nprint(\"hello\")\ndef sum12(a, b):\n    a *\u003d 10; b *\u003d 10\n    return a * b\nprint(sum12(21, 2))\n"
    },
    {
      "cell_type": "code",
      "execution_count": 16,
      "outputs": [
        {
          "name": "stdout",
          "text": [
            "C:\\Users\\ak_ka\\Anaconda3\\envs\\vision3\\python.exe\n3.6.6 |Anaconda, Inc.| (default, Jun 28 2018, 11:27:44) [MSC v.1900 64 bit (AMD64)]\nsys.version_info(major\u003d3, minor\u003d6, micro\u003d6, releaselevel\u003d\u0027final\u0027, serial\u003d0)\n"
          ],
          "output_type": "stream"
        }
      ],
      "source": "import sys\n\nprint(sys.executable)\nprint(sys.version)\nprint(sys.version_info)     \n",
      "metadata": {
        "pycharm": {
          "metadata": false,
          "name": "#%%\n",
          "is_executing": false
        }
      }
    },
    {
      "cell_type": "code",
      "execution_count": 5,
      "outputs": [
        {
          "name": "stderr",
          "text": [
            "C:\\Users\\ak_ka\\Anaconda3\\envs\\vision3\\lib\\site-packages\\ipykernel_launcher.py:11: FutureWarning: `rcond` parameter will change to the default of machine precision times ``max(M, N)`` where M and N are the input matrix dimensions.\nTo use the future default and silence this warning we advise to pass `rcond\u003dNone`, to keep using the old, explicitly pass `rcond\u003d-1`.\n  # This is added back by InteractiveShellApp.init_path()\n"
          ],
          "output_type": "stream"
        },
        {
          "data": {
            "text/plain": "\u003cFigure size 432x288 with 1 Axes\u003e",
            "image/png": "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\u003d\n"
          },
          "metadata": {
            "needs_background": "light"
          },
          "output_type": "display_data"
        }
      ],
      "source": "import numpy as np\nimport matplotlib.pyplot as plt\n\n# x co-ordinates\nx \u003d np.arange(0, 9)\nA \u003d np.array([x, np.ones(9)])\n\n# linearly generated sequence\ny \u003d [19, 20, 20.5, 21.5, 22, 23, 23, 25.5, 24]\n# obtaining the parameters of regression line\nw \u003d np.linalg.lstsq(A.T, y)[0]\n\n# plotting the line\nline \u003d w[0]*x + w[1] # regression line\nplt.plot(x, line, \u0027r-\u0027)\nplt.plot(x, y, \u0027o\u0027)\nplt.show()\n\n\n",
      "metadata": {
        "pycharm": {
          "metadata": false,
          "name": "#%%\n",
          "is_executing": false
        }
      }
    }
  ],
  "metadata": {
    "language_info": {
      "codemirror_mode": {
        "name": "ipython",
        "version": 2
      },
      "file_extension": ".py",
      "mimetype": "text/x-python",
      "name": "python",
      "nbconvert_exporter": "python",
      "pygments_lexer": "ipython2",
      "version": "2.7.6"
    },
    "kernelspec": {
      "name": "python3",
      "language": "python",
      "display_name": "Python 3"
    }
  },
  "nbformat": 4,
  "nbformat_minor": 0
}