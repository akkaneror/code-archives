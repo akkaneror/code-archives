{
  "cells": [
    {
      "cell_type": "code",
      "execution_count": 3,
      "metadata": {
        "collapsed": true,
        "pycharm": {
          "is_executing": false
        }
      },
      "outputs": [
        {
          "name": "stdout",
          "text": [
            "hello\n",
            "4200\n"
          ],
          "output_type": "stream"
        }
      ],
      "source": "\nprint(\"hello\")\ndef sum12(a, b):\n    a *\u003d 10; b *\u003d 10\n    return a * b\nprint(sum12(21, 2))\n"
    },
    {
      "cell_type": "code",
      "execution_count": 16,
      "outputs": [
        {
          "name": "stdout",
          "text": [
            "C:\\Users\\ak_ka\\Anaconda3\\envs\\vision3\\python.exe\n3.6.6 |Anaconda, Inc.| (default, Jun 28 2018, 11:27:44) [MSC v.1900 64 bit (AMD64)]\nsys.version_info(major\u003d3, minor\u003d6, micro\u003d6, releaselevel\u003d\u0027final\u0027, serial\u003d0)\n"
          ],
          "output_type": "stream"
        }
      ],
      "source": "import sys\n\nprint(sys.executable)\nprint(sys.version)\nprint(sys.version_info)",
      "metadata": {
        "pycharm": {
          "metadata": false,
          "name": "#%%\n",
          "is_executing": false
        }
      }
    }
  ],
  "metadata": {
    "language_info": {
      "codemirror_mode": {
        "name": "ipython",
        "version": 2
      },
      "file_extension": ".py",
      "mimetype": "text/x-python",
      "name": "python",
      "nbconvert_exporter": "python",
      "pygments_lexer": "ipython2",
      "version": "2.7.6"
    },
    "kernelspec": {
      "name": "python3",
      "language": "python",
      "display_name": "Python 3"
    }
  },
  "nbformat": 4,
  "nbformat_minor": 0
}