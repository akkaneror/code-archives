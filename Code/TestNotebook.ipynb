{
  "cells": [
    {
      "cell_type": "code",
      "execution_count": null,
      "metadata": {
        "pycharm": {
          "is_executing": true
        }
      },
      "outputs": [],
      "source": [
        "\n",
        "print(\"hello\")\n",
        "def sum12(a, b):\n",
        "    a *\u003d 10; b *\u003d 10\n",
        "    return a * b\n",
        "print(sum12(10, 10))\n"
      ]
    },
    {
      "cell_type": "code",
      "execution_count": null,
      "metadata": {
        "pycharm": {
          "is_executing": false,
          "metadata": false,
          "name": "#%%\n"
        }
      },
      "outputs": [],
      "source": [
        "import sys\n",
        "\n",
        "print(sys.executable)\n",
        "print(sys.version)\n",
        "print(sys.version_info)     \n"
      ]
    },
    {
      "cell_type": "code",
      "execution_count": null,
      "metadata": {
        "pycharm": {
          "is_executing": false,
          "metadata": false,
          "name": "#%%\n"
        }
      },
      "outputs": [],
      "source": [
        "import numpy as np\n",
        "import matplotlib.pyplot as plt\n",
        "\n",
        "# x co-ordinates\n",
        "x \u003d np.arange(0, 9)\n",
        "A \u003d np.array([x, np.ones(9)])\n",
        "\n",
        "# linearly generated sequence\n",
        "y \u003d [19, 20, 20.5, 21.5, 22, 23, 23, 25.5, 24]\n",
        "# obtaining the parameters of regression line\n",
        "w \u003d np.linalg.lstsq(A.T, y)[0]\n",
        "\n",
        "# plotting the line\n",
        "line \u003d w[0]*x + w[1] # regression line\n",
        "plt.plot(x, line, \u0027r-\u0027)\n",
        "plt.plot(x, y, \u0027o\u0027)\n",
        "plt.show()\n"
      ]
    },
    {
      "cell_type": "code",
      "execution_count": null,
      "metadata": {
        "pycharm": {
          "is_executing": false,
          "metadata": false,
          "name": "#%%\n"
        }
      },
      "outputs": [],
      "source": [
        "arr \u003d np.arange(1, 10)\n",
        "temp \u003d np.arange(11, 20)\n",
        "x \u003d 11\n",
        "arr[x:] \u003d temp\n",
        "print(arr)"
      ]
    },
    {
      "cell_type": "code",
      "execution_count": null,
      "metadata": {
        "pycharm": {
          "is_executing": false,
          "metadata": false,
          "name": "#%%\n"
        }
      },
      "outputs": [],
      "source": [
        "import numpy as np  \n",
        "a \u003d []\n",
        "b \u003d np.zeros(5)\n",
        "print(a, b)\n"
      ]
    },
    {
      "cell_type": "code",
      "execution_count": 1,
      "metadata": {
        "pycharm": {
          "is_executing": false,
          "metadata": false,
          "name": "#%%\n"
        }
      },
      "outputs": [
        {
          "name": "stdout",
          "output_type": "stream",
          "text": [
            "def sort(_list):\n",
            "    \"\"\"\n",
            "    Function to sort an array \n",
            "    using merge sort algorithm \n",
            "    \n",
            "    :param _list: list of values to sort\n",
            "    :return: sorted\n",
            "    \"\"\"\n",
            "    if len(_list) \u003d\u003d 0 or len(_list) \u003d\u003d 1:\n",
            "        return _list\n",
            "    else:\n",
            "        middle \u003d len(_list)//2\n",
            "        a \u003d sort(_list[:middle])\n",
            "        b \u003d sort(_list[middle:])\n",
            "        return merge(a, b)\n",
            "\n"
          ]
        }
      ],
      "source": [
        "from pygorithm.sorting import merge_sort\n",
        "code \u003d merge_sort.get_code()\n",
        "print(code)"
      ]
    },
    {
      "cell_type": "code",
      "execution_count": 8,
      "metadata": {
        "pycharm": {
          "is_executing": false
        }
      },
      "outputs": [
        {
          "name": "stdout",
          "text": [
            "8568\n-1\n8568\n8568\n"
          ],
          "output_type": "stream"
        }
      ],
      "source": "\"\"\"Write a HashTable class that stores strings\nin a hash table, where keys are calculated\nusing the first two letters of the string.\"\"\"\n\nclass HashTable(object):\n    def __init__(self):\n        self.table \u003d [None]*10000\n\n    def store(self, string):\n        \"\"\"Input a string that\u0027s stored in \n        the table.\"\"\"\n        hash_value \u003d self.calculate_hash_value(string)\n        if self.table[hash_value] !\u003d None:\n            self.table[hash_value].append(string)\n        else:\n            self.table[hash_value] \u003d [string]\n\n    def lookup(self, string):\n        \"\"\"Return the hash value if the\n        string is already in the table.\n        Return -1 otherwise.\"\"\"\n        hash_value \u003d self.calculate_hash_value(string)\n        if hash_value \u003e - 1:\n            if self.table[hash_value] !\u003d None:\n                if string in self.table[hash_value]:\n                    return hash_value\n        return -1\n\n    def calculate_hash_value(self, string):\n        \"\"\"Helper function to calulate a\n        hash value from a string.\"\"\"\n        return ord(string[0]) * 100 + ord(string[1])\n    \n# Setup\nhash_table \u003d HashTable()\n\n# Test calculate_hash_value\n# Should be 8568\nprint (hash_table.calculate_hash_value(\u0027UDACITY\u0027))\n\n# Test lookup edge case\n# Should be -1\nprint (hash_table.lookup(\u0027UDACITY\u0027))\n\n# Test store\nhash_table.store(\u0027UDACITY\u0027)\n# Should be 8568\nprint (hash_table.lookup(\u0027UDACITY\u0027))\n\n# Test store edge case\nhash_table.store(\u0027UDACIOUS\u0027)\n# Should be 8568\nprint (hash_table.lookup(\u0027UDACIOUS\u0027))\n"
    }
  ],
  "metadata": {
    "kernelspec": {
      "display_name": "Python 3",
      "language": "python",
      "name": "python3"
    },
    "language_info": {
      "codemirror_mode": {
        "name": "ipython",
        "version": 3
      },
      "file_extension": ".py",
      "mimetype": "text/x-python",
      "name": "python",
      "nbconvert_exporter": "python",
      "pygments_lexer": "ipython3",
      "version": "3.6.6"
    }
  },
  "nbformat": 4,
  "nbformat_minor": 1
}